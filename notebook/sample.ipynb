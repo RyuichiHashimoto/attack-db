{
 "cells": [
  {
   "cell_type": "code",
   "execution_count": 1,
   "id": "74a920ef",
   "metadata": {},
   "outputs": [],
   "source": [
    "import polars as pl\n",
    "from db.model import Tactics, Techniques, TacTech, Datasources, TechData, DataCollection, Cyberkillchain, AdditionalDatasources\n",
    "from miter.create_db import create_tactic_as_records, create_technique_as_records"
   ]
  },
  {
   "cell_type": "code",
   "execution_count": 2,
   "id": "8cfc99c9",
   "metadata": {},
   "outputs": [],
   "source": [
    "tactic_path = \"/home/work/data/enterprise-attack-v15.1-tactics.xlsx\"\n",
    "technique_path = \"/home/work/data/enterprise-attack-v15.1-techniques.xlsx\""
   ]
  },
  {
   "cell_type": "code",
   "execution_count": 3,
   "id": "c97564ea",
   "metadata": {},
   "outputs": [],
   "source": [
    "target_model = AdditionalDatasources"
   ]
  },
  {
   "cell_type": "code",
   "execution_count": 4,
   "id": "3ed3b8a5",
   "metadata": {},
   "outputs": [],
   "source": [
    "target_model.drop_table()\n",
    "target_model.create_table()"
   ]
  },
  {
   "cell_type": "markdown",
   "id": "8355ae11",
   "metadata": {},
   "source": []
  },
  {
   "cell_type": "code",
   "execution_count": 5,
   "id": "6b120475",
   "metadata": {},
   "outputs": [],
   "source": []
  },
  {
   "cell_type": "code",
   "execution_count": 8,
   "id": "67cc1f1c",
   "metadata": {},
   "outputs": [],
   "source": [
    "def update_additonal_data(datasource_id: str, new_value: int)  -> None:\n",
    "    if type(new_value) is not int: raise TypeError\n",
    "    if type(datasource_id) is not str: raise TypeError\n",
    "\n",
    "    query = AdditionalDatasources.update(is_target=new_value).where(AdditionalDatasources.datasource_id == datasource_id)\n",
    "    query.execute()"
   ]
  },
  {
   "cell_type": "code",
   "execution_count": 9,
   "id": "0497bb3d",
   "metadata": {},
   "outputs": [],
   "source": [
    "update_additonal_data(\"DS0001\", 1)"
   ]
  },
  {
   "cell_type": "code",
   "execution_count": null,
   "id": "bdf14b48",
   "metadata": {},
   "outputs": [],
   "source": []
  }
 ],
 "metadata": {
  "kernelspec": {
   "display_name": "Python 3 (ipykernel)",
   "language": "python",
   "name": "python3"
  },
  "language_info": {
   "codemirror_mode": {
    "name": "ipython",
    "version": 3
   },
   "file_extension": ".py",
   "mimetype": "text/x-python",
   "name": "python",
   "nbconvert_exporter": "python",
   "pygments_lexer": "ipython3",
   "version": "3.11.9"
  }
 },
 "nbformat": 4,
 "nbformat_minor": 5
}
