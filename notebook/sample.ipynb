{
 "cells": [
  {
   "cell_type": "code",
   "execution_count": 10,
   "id": "74a920ef",
   "metadata": {},
   "outputs": [],
   "source": [
    "import polars as pl\n",
    "from db.model import Tactics, Techniques, TacTech, Datasources, TechData, DataCollection, Cyberkillchain, AdditionalDatasources, Mitigations, TechMitigations\n",
    "from miter.create_db import create_tactic_as_records, create_technique_as_records, create_mitigation_as_records"
   ]
  },
  {
   "cell_type": "code",
   "execution_count": 14,
   "id": "8cfc99c9",
   "metadata": {},
   "outputs": [],
   "source": [
    "tactic_path = \"/home/work/data/enterprise-attack-v15.1-tactics.xlsx\"\n",
    "technique_path = \"/home/work/data/enterprise-attack-v15.1-techniques.xlsx\"\n",
    "mitigation_path = \"/home/work/data/enterprise-attack-v15.1-mitigations.xlsx\"\n",
    "relation_path = \"/home/work/data/enterprise-attack-v15.1-relationships.xlsx\""
   ]
  },
  {
   "cell_type": "code",
   "execution_count": 11,
   "id": "c97564ea",
   "metadata": {},
   "outputs": [],
   "source": [
    "target_model = TechMitigations"
   ]
  },
  {
   "cell_type": "code",
   "execution_count": 12,
   "id": "3ed3b8a5",
   "metadata": {},
   "outputs": [],
   "source": [
    "target_model.drop_table()\n",
    "target_model.create_table()"
   ]
  },
  {
   "cell_type": "code",
   "execution_count": 22,
   "id": "cb734ab8",
   "metadata": {},
   "outputs": [],
   "source": [
    "mitigation_df = pl.read_excel(relation_path)"
   ]
  },
  {
   "cell_type": "code",
   "execution_count": 23,
   "id": "198661b1",
   "metadata": {},
   "outputs": [],
   "source": [
    "map_replace_map = {\"source ID\": \"mitigation_id\", \"target ID\": 'technique_id'}"
   ]
  },
  {
   "cell_type": "code",
   "execution_count": 35,
   "id": "fbb1785d",
   "metadata": {},
   "outputs": [],
   "source": [
    "relation_df = pl.read_excel(relation_path)\n",
    "relation_df = relation_df.filter(pl.col(\"source ID\").str.starts_with(\"M\"))\n",
    "relation_df = relation_df.select(list(map_replace_map.keys())).rename(map_replace_map)\n",
    "relation_df.with_columns((pl.arange(1, relation_df.height + 1)).alias(\"id\"))\n",
    "data = relation_df.to_dicts()"
   ]
  },
  {
   "cell_type": "code",
   "execution_count": 33,
   "id": "c933da20",
   "metadata": {},
   "outputs": [
    {
     "data": {
      "text/html": [
       "<div><style>\n",
       ".dataframe > thead > tr,\n",
       ".dataframe > tbody > tr {\n",
       "  text-align: right;\n",
       "  white-space: pre-wrap;\n",
       "}\n",
       "</style>\n",
       "<small>shape: (1_295, 3)</small><table border=\"1\" class=\"dataframe\"><thead><tr><th>mitigation_id</th><th>technique_id</th><th>id</th></tr><tr><td>str</td><td>str</td><td>i64</td></tr></thead><tbody><tr><td>&quot;M1036&quot;</td><td>&quot;T1110&quot;</td><td>1</td></tr><tr><td>&quot;M1036&quot;</td><td>&quot;T1078.004&quot;</td><td>2</td></tr><tr><td>&quot;M1036&quot;</td><td>&quot;T1110.004&quot;</td><td>3</td></tr><tr><td>&quot;M1036&quot;</td><td>&quot;T1621&quot;</td><td>4</td></tr><tr><td>&quot;M1036&quot;</td><td>&quot;T1110.001&quot;</td><td>5</td></tr><tr><td>&hellip;</td><td>&hellip;</td><td>&hellip;</td></tr><tr><td>&quot;M1016&quot;</td><td>&quot;T1195.001&quot;</td><td>1291</td></tr><tr><td>&quot;M1016&quot;</td><td>&quot;T1195.002&quot;</td><td>1292</td></tr><tr><td>&quot;M1016&quot;</td><td>&quot;T1190&quot;</td><td>1293</td></tr><tr><td>&quot;M1016&quot;</td><td>&quot;T1210&quot;</td><td>1294</td></tr><tr><td>&quot;M1016&quot;</td><td>&quot;T1195&quot;</td><td>1295</td></tr></tbody></table></div>"
      ],
      "text/plain": [
       "shape: (1_295, 3)\n",
       "┌───────────────┬──────────────┬──────┐\n",
       "│ mitigation_id ┆ technique_id ┆ id   │\n",
       "│ ---           ┆ ---          ┆ ---  │\n",
       "│ str           ┆ str          ┆ i64  │\n",
       "╞═══════════════╪══════════════╪══════╡\n",
       "│ M1036         ┆ T1110        ┆ 1    │\n",
       "│ M1036         ┆ T1078.004    ┆ 2    │\n",
       "│ M1036         ┆ T1110.004    ┆ 3    │\n",
       "│ M1036         ┆ T1621        ┆ 4    │\n",
       "│ M1036         ┆ T1110.001    ┆ 5    │\n",
       "│ …             ┆ …            ┆ …    │\n",
       "│ M1016         ┆ T1195.001    ┆ 1291 │\n",
       "│ M1016         ┆ T1195.002    ┆ 1292 │\n",
       "│ M1016         ┆ T1190        ┆ 1293 │\n",
       "│ M1016         ┆ T1210        ┆ 1294 │\n",
       "│ M1016         ┆ T1195        ┆ 1295 │\n",
       "└───────────────┴──────────────┴──────┘"
      ]
     },
     "execution_count": 33,
     "metadata": {},
     "output_type": "execute_result"
    }
   ],
   "source": []
  },
  {
   "cell_type": "code",
   "execution_count": 36,
   "id": "bdf14b48",
   "metadata": {},
   "outputs": [
    {
     "data": {
      "text/plain": [
       "1"
      ]
     },
     "execution_count": 36,
     "metadata": {},
     "output_type": "execute_result"
    }
   ],
   "source": [
    "target_model.insert_many(data).execute()"
   ]
  },
  {
   "cell_type": "code",
   "execution_count": null,
   "id": "d7dcb26e",
   "metadata": {},
   "outputs": [],
   "source": []
  }
 ],
 "metadata": {
  "kernelspec": {
   "display_name": "Python 3 (ipykernel)",
   "language": "python",
   "name": "python3"
  },
  "language_info": {
   "codemirror_mode": {
    "name": "ipython",
    "version": 3
   },
   "file_extension": ".py",
   "mimetype": "text/x-python",
   "name": "python",
   "nbconvert_exporter": "python",
   "pygments_lexer": "ipython3",
   "version": "3.11.9"
  }
 },
 "nbformat": 4,
 "nbformat_minor": 5
}
