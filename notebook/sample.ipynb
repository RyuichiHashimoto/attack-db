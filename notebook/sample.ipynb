{
 "cells": [
  {
   "cell_type": "code",
   "execution_count": 1,
   "id": "74a920ef",
   "metadata": {},
   "outputs": [],
   "source": [
    "import polars as pl\n",
    "from db.model import Tactics, Techniques, TacTech, TacticOrders, Datasources, TechData, DataCollection\n",
    "from miter.create_db import create_teqnique_datasource_relation_records, save_to_mysql, load_datasource_as_records\n",
    "DataCollection.create_table()"
   ]
  },
  {
   "cell_type": "code",
   "execution_count": null,
   "id": "9275ada5",
   "metadata": {},
   "outputs": [],
   "source": []
  },
  {
   "cell_type": "code",
   "execution_count": 2,
   "id": "cea1e97b",
   "metadata": {},
   "outputs": [],
   "source": [
    "COLUMN_MAPPING_DATASOURCE = {    \n",
    "    \"name\": \"datasource\",\n",
    "    \"ID\": \"datasource_id\",\n",
    "    \"STIX ID\": \"stix_id\",\n",
    "    \"description\": \"description_en\",\n",
    "    # \"platforms\": \"platforms\",\n",
    "    \"created\": \"created\",\n",
    "    \"modified\": \"last_modified\",\n",
    "    \"type\": \"type\",\n",
    "    \"version\": \"version\",\n",
    "    \"url\": \"url\"\n",
    "}"
   ]
  },
  {
   "cell_type": "code",
   "execution_count": 12,
   "id": "5ecb39b7",
   "metadata": {},
   "outputs": [],
   "source": [
    "df = pl.read_excel(\"/home/work/data/enterprise-attack-v15.1-datasources.xlsx\")\n",
    "df = df.rename(COLUMN_MAPPING_DATASOURCE).drop_nulls(\"collection layers\")\n",
    "df = df.with_columns(pl.col(\"collection layers\").str.split(\",\")).explode(\"collection layers\").rename({\"collection layers\":\"collection_layer\"})\n",
    "df = df.with_columns(pl.col(\"collection_layer\").str.strip_chars(\" \")).select([\"datasource_id\", \"collection_layer\"])\n",
    "df = df.with_row_count(\"id\")\n",
    "df = df.with_columns((pl.col(\"id\") + 1).alias(\"id\"))\n",
    "data = df.to_dicts()"
   ]
  },
  {
   "cell_type": "code",
   "execution_count": 13,
   "id": "c859b3aa",
   "metadata": {},
   "outputs": [
    {
     "name": "stderr",
     "output_type": "stream",
     "text": [
      "/tmp/ipykernel_755228/1281368422.py:1: DeprecationWarning: `with_row_count` is deprecated. Use `with_row_index` instead. Note that the default column name has changed from 'row_nr' to 'index'.\n",
      "  df = df.with_row_count(\"id\")\n"
     ]
    }
   ],
   "source": []
  },
  {
   "cell_type": "code",
   "execution_count": 14,
   "id": "2d1abbda",
   "metadata": {},
   "outputs": [],
   "source": []
  },
  {
   "cell_type": "code",
   "execution_count": 16,
   "id": "e1edd141",
   "metadata": {},
   "outputs": [],
   "source": [
    "save_to_mysql(DataCollection, data)"
   ]
  },
  {
   "cell_type": "code",
   "execution_count": null,
   "id": "4e4e1302",
   "metadata": {},
   "outputs": [],
   "source": []
  },
  {
   "cell_type": "code",
   "execution_count": null,
   "id": "727ec4a5",
   "metadata": {},
   "outputs": [],
   "source": []
  }
 ],
 "metadata": {
  "kernelspec": {
   "display_name": "Python 3 (ipykernel)",
   "language": "python",
   "name": "python3"
  },
  "language_info": {
   "codemirror_mode": {
    "name": "ipython",
    "version": 3
   },
   "file_extension": ".py",
   "mimetype": "text/x-python",
   "name": "python",
   "nbconvert_exporter": "python",
   "pygments_lexer": "ipython3",
   "version": "3.11.9"
  }
 },
 "nbformat": 4,
 "nbformat_minor": 5
}
