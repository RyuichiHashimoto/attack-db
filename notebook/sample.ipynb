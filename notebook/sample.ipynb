{
 "cells": [
  {
   "cell_type": "code",
   "execution_count": 13,
   "id": "74a920ef",
   "metadata": {},
   "outputs": [],
   "source": [
    "import polars as pl\n",
    "from db.model import Groups, Software, GroupSoftware\n",
    "from miter.create_db import create_tactic_as_records, create_technique_as_records, create_mitigation_as_records, save_to_mysql"
   ]
  },
  {
   "cell_type": "code",
   "execution_count": 14,
   "id": "8cfc99c9",
   "metadata": {},
   "outputs": [],
   "source": [
    "tactic_path = \"/home/work/data/enterprise-attack-v15.1-tactics.xlsx\"\n",
    "datasource_path = \"/home/work/data/enterprise-attack-v15.1-datasources.xlsx\"\n",
    "technique_path = \"/home/work/data/enterprise-attack-v15.1-techniques.xlsx\"\n",
    "mitigation_path = \"/home/work/data/enterprise-attack-v15.1-mitigations.xlsx\"\n",
    "relation_path = \"/home/work/data/enterprise-attack-v15.1-relationships.xlsx\"\n",
    "group_path = \"/home/work/data/enterprise-attack-v15.1-groups.xlsx\"\n",
    "software_path = \"/home/work/data/enterprise-attack-v15.1-software.xlsx\""
   ]
  },
  {
   "cell_type": "code",
   "execution_count": 15,
   "id": "c97564ea",
   "metadata": {},
   "outputs": [],
   "source": [
    "target_model = GroupSoftware"
   ]
  },
  {
   "cell_type": "code",
   "execution_count": 16,
   "id": "3ed3b8a5",
   "metadata": {},
   "outputs": [],
   "source": [
    "target_model.drop_table()\n",
    "target_model.create_table()"
   ]
  },
  {
   "cell_type": "code",
   "execution_count": 17,
   "id": "614c36bb",
   "metadata": {},
   "outputs": [],
   "source": [
    "COLUMN_MAPPING_SOFTWARE = {\n",
    "    \"ID\": \"software_id\",\n",
    "    \"name\": \"name\",\n",
    "    \"description\": \"description_en\",\n",
    "    # \"description_jp\": \"description_jp\",\n",
    "    \"url\": \"url\",\n",
    "    \"created\": \"created\",\n",
    "    \"last modified\": \"last_modified\",\n",
    "    \"version\": \"version\",\n",
    "    \"type\": \"type\"\n",
    "}"
   ]
  },
  {
   "cell_type": "code",
   "execution_count": 18,
   "id": "c305112e",
   "metadata": {},
   "outputs": [],
   "source": [
    "software_df = pl.read_excel(software_path, sheet_name=\"associated groups\")"
   ]
  },
  {
   "cell_type": "code",
   "execution_count": 19,
   "id": "4e098d77",
   "metadata": {},
   "outputs": [
    {
     "data": {
      "text/html": [
       "<div><style>\n",
       ".dataframe > thead > tr,\n",
       ".dataframe > tbody > tr {\n",
       "  text-align: right;\n",
       "  white-space: pre-wrap;\n",
       "}\n",
       "</style>\n",
       "<small>shape: (5, 13)</small><table border=\"1\" class=\"dataframe\"><thead><tr><th>source ID</th><th>source name</th><th>source ref</th><th>source type</th><th>mapping type</th><th>target ID</th><th>target name</th><th>target ref</th><th>target type</th><th>mapping description</th><th>STIX ID</th><th>created</th><th>last modified</th></tr><tr><td>str</td><td>str</td><td>str</td><td>str</td><td>str</td><td>str</td><td>str</td><td>str</td><td>str</td><td>str</td><td>str</td><td>str</td><td>str</td></tr></thead><tbody><tr><td>&quot;G1028&quot;</td><td>&quot;APT-C-23&quot;</td><td>&quot;intrusion-set--8332952e-b86b-4…</td><td>&quot;group&quot;</td><td>&quot;uses&quot;</td><td>&quot;S0339&quot;</td><td>&quot;Micropsia&quot;</td><td>&quot;malware--8c050cea-86e1-4b63-bf…</td><td>&quot;software&quot;</td><td>null</td><td>&quot;relationship--edfebe9b-4387-47…</td><td>&quot;26 March 2024&quot;</td><td>&quot;26 March 2024&quot;</td></tr><tr><td>&quot;G0099&quot;</td><td>&quot;APT-C-36&quot;</td><td>&quot;intrusion-set--c4d50cdf-87ce-4…</td><td>&quot;group&quot;</td><td>&quot;uses&quot;</td><td>&quot;S0434&quot;</td><td>&quot;Imminent Monitor&quot;</td><td>&quot;tool--8f8cd191-902c-4e83-bf20-…</td><td>&quot;software&quot;</td><td>&quot;(Citation: QiAnXin APT-C-36 Fe…</td><td>&quot;relationship--3f010259-666c-40…</td><td>&quot;05 May 2020&quot;</td><td>&quot;14 October 2020&quot;</td></tr><tr><td>&quot;G0006&quot;</td><td>&quot;APT1&quot;</td><td>&quot;intrusion-set--6a2e693f-24e5-4…</td><td>&quot;group&quot;</td><td>&quot;uses&quot;</td><td>&quot;S0017&quot;</td><td>&quot;BISCUIT&quot;</td><td>&quot;malware--b8eb28e4-48a6-40ae-95…</td><td>&quot;software&quot;</td><td>&quot;(Citation: Mandiant APT1)&quot;</td><td>&quot;relationship--19fce62c-ba70-4c…</td><td>&quot;31 May 2017&quot;</td><td>&quot;20 August 2019&quot;</td></tr><tr><td>&quot;G0006&quot;</td><td>&quot;APT1&quot;</td><td>&quot;intrusion-set--6a2e693f-24e5-4…</td><td>&quot;group&quot;</td><td>&quot;uses&quot;</td><td>&quot;S0025&quot;</td><td>&quot;CALENDAR&quot;</td><td>&quot;malware--5a84dc36-df0d-4053-9b…</td><td>&quot;software&quot;</td><td>&quot;(Citation: Mandiant APT1)&quot;</td><td>&quot;relationship--7909f5a6-3924-42…</td><td>&quot;31 May 2017&quot;</td><td>&quot;20 August 2019&quot;</td></tr><tr><td>&quot;G0006&quot;</td><td>&quot;APT1&quot;</td><td>&quot;intrusion-set--6a2e693f-24e5-4…</td><td>&quot;group&quot;</td><td>&quot;uses&quot;</td><td>&quot;S0119&quot;</td><td>&quot;Cachedump&quot;</td><td>&quot;tool--c9cd7ec9-40b7-49db-80be-…</td><td>&quot;software&quot;</td><td>&quot;(Citation: Mandiant APT1)&quot;</td><td>&quot;relationship--1d5e0da2-7741-4a…</td><td>&quot;31 May 2017&quot;</td><td>&quot;20 August 2019&quot;</td></tr></tbody></table></div>"
      ],
      "text/plain": [
       "shape: (5, 13)\n",
       "┌───────────┬───────────┬───────────┬───────────┬───┬───────────┬───────────┬───────────┬──────────┐\n",
       "│ source ID ┆ source    ┆ source    ┆ source    ┆ … ┆ mapping   ┆ STIX ID   ┆ created   ┆ last     │\n",
       "│ ---       ┆ name      ┆ ref       ┆ type      ┆   ┆ descripti ┆ ---       ┆ ---       ┆ modified │\n",
       "│ str       ┆ ---       ┆ ---       ┆ ---       ┆   ┆ on        ┆ str       ┆ str       ┆ ---      │\n",
       "│           ┆ str       ┆ str       ┆ str       ┆   ┆ ---       ┆           ┆           ┆ str      │\n",
       "│           ┆           ┆           ┆           ┆   ┆ str       ┆           ┆           ┆          │\n",
       "╞═══════════╪═══════════╪═══════════╪═══════════╪═══╪═══════════╪═══════════╪═══════════╪══════════╡\n",
       "│ G1028     ┆ APT-C-23  ┆ intrusion ┆ group     ┆ … ┆ null      ┆ relations ┆ 26 March  ┆ 26 March │\n",
       "│           ┆           ┆ -set--833 ┆           ┆   ┆           ┆ hip--edfe ┆ 2024      ┆ 2024     │\n",
       "│           ┆           ┆ 2952e-b86 ┆           ┆   ┆           ┆ be9b-4387 ┆           ┆          │\n",
       "│           ┆           ┆ b-4…      ┆           ┆   ┆           ┆ -47…      ┆           ┆          │\n",
       "│ G0099     ┆ APT-C-36  ┆ intrusion ┆ group     ┆ … ┆ (Citation ┆ relations ┆ 05 May    ┆ 14       │\n",
       "│           ┆           ┆ -set--c4d ┆           ┆   ┆ : QiAnXin ┆ hip--3f01 ┆ 2020      ┆ October  │\n",
       "│           ┆           ┆ 50cdf-87c ┆           ┆   ┆ APT-C-36  ┆ 0259-666c ┆           ┆ 2020     │\n",
       "│           ┆           ┆ e-4…      ┆           ┆   ┆ Fe…       ┆ -40…      ┆           ┆          │\n",
       "│ G0006     ┆ APT1      ┆ intrusion ┆ group     ┆ … ┆ (Citation ┆ relations ┆ 31 May    ┆ 20       │\n",
       "│           ┆           ┆ -set--6a2 ┆           ┆   ┆ :         ┆ hip--19fc ┆ 2017      ┆ August   │\n",
       "│           ┆           ┆ e693f-24e ┆           ┆   ┆ Mandiant  ┆ e62c-ba70 ┆           ┆ 2019     │\n",
       "│           ┆           ┆ 5-4…      ┆           ┆   ┆ APT1)     ┆ -4c…      ┆           ┆          │\n",
       "│ G0006     ┆ APT1      ┆ intrusion ┆ group     ┆ … ┆ (Citation ┆ relations ┆ 31 May    ┆ 20       │\n",
       "│           ┆           ┆ -set--6a2 ┆           ┆   ┆ :         ┆ hip--7909 ┆ 2017      ┆ August   │\n",
       "│           ┆           ┆ e693f-24e ┆           ┆   ┆ Mandiant  ┆ f5a6-3924 ┆           ┆ 2019     │\n",
       "│           ┆           ┆ 5-4…      ┆           ┆   ┆ APT1)     ┆ -42…      ┆           ┆          │\n",
       "│ G0006     ┆ APT1      ┆ intrusion ┆ group     ┆ … ┆ (Citation ┆ relations ┆ 31 May    ┆ 20       │\n",
       "│           ┆           ┆ -set--6a2 ┆           ┆   ┆ :         ┆ hip--1d5e ┆ 2017      ┆ August   │\n",
       "│           ┆           ┆ e693f-24e ┆           ┆   ┆ Mandiant  ┆ 0da2-7741 ┆           ┆ 2019     │\n",
       "│           ┆           ┆ 5-4…      ┆           ┆   ┆ APT1)     ┆ -4a…      ┆           ┆          │\n",
       "└───────────┴───────────┴───────────┴───────────┴───┴───────────┴───────────┴───────────┴──────────┘"
      ]
     },
     "execution_count": 19,
     "metadata": {},
     "output_type": "execute_result"
    }
   ],
   "source": [
    "map_replace_map = {\"source ID\": \"group_id\", \"target ID\": 'software_id'}\n",
    "software_df.head()"
   ]
  },
  {
   "cell_type": "code",
   "execution_count": 10,
   "id": "f8c59d5c",
   "metadata": {},
   "outputs": [],
   "source": [
    "\n",
    "group_df = group_df.rename(COLUMN_MAPPING_SOFTWARE).select(list(COLUMN_MAPPING_SOFTWARE.values()))\n",
    "group_df = group_df.with_columns(pl.Series(\"description_jp\", [None]* len(group_df)))\n"
   ]
  },
  {
   "cell_type": "code",
   "execution_count": 12,
   "id": "5cab8bdc",
   "metadata": {},
   "outputs": [],
   "source": [
    "save_to_mysql(target_model, group_df.to_dicts())"
   ]
  },
  {
   "cell_type": "code",
   "execution_count": 8,
   "id": "bb324948",
   "metadata": {},
   "outputs": [],
   "source": [
    "def save_to_mysql(table, records) -> None:\n",
    "    table.insert_many(records).execute()"
   ]
  }
 ],
 "metadata": {
  "kernelspec": {
   "display_name": "Python 3 (ipykernel)",
   "language": "python",
   "name": "python3"
  },
  "language_info": {
   "codemirror_mode": {
    "name": "ipython",
    "version": 3
   },
   "file_extension": ".py",
   "mimetype": "text/x-python",
   "name": "python",
   "nbconvert_exporter": "python",
   "pygments_lexer": "ipython3",
   "version": "3.11.9"
  }
 },
 "nbformat": 4,
 "nbformat_minor": 5
}
