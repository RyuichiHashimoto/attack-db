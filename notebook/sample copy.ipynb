{
 "cells": [
  {
   "cell_type": "code",
   "execution_count": 2,
   "id": "bdf14b48",
   "metadata": {},
   "outputs": [
    {
     "name": "stdout",
     "output_type": "stream",
     "text": [
      "Failed to retrieve data: 406\n"
     ]
    }
   ],
   "source": [
    "import requests\n",
    "\n",
    "def get_technique_mitigations(technique_id):\n",
    "    url = f\"https://cti-taxii.mitre.org/stix/collections/{technique_id}/objects/\"\n",
    "    response = requests.get(url)\n",
    "    if response.status_code != 200:\n",
    "        print(f\"Failed to retrieve data: {response.status_code}\")\n",
    "        return\n",
    "    \n",
    "    data = response.json()\n",
    "    techniques = data['objects']\n",
    "    mitigations = {}\n",
    "\n",
    "    for obj in techniques:\n",
    "        if obj['type'] == 'relationship' and obj['relationship_type'] == 'mitigates':\n",
    "            source_ref = obj['source_ref']\n",
    "            target_ref = obj['target_ref']\n",
    "\n",
    "            if source_ref not in mitigations:\n",
    "                mitigations[source_ref] = []\n",
    "            \n",
    "            mitigations[source_ref].append(target_ref)\n",
    "    \n",
    "    for tech, mit in mitigations.items():\n",
    "        print(f\"Technique: {tech}\")\n",
    "        for m in mit:\n",
    "            print(f\"  Mitigation: {m}\")\n",
    "\n",
    "# Replace with actual technique ID\n"
   ]
  },
  {
   "cell_type": "code",
   "execution_count": 3,
   "id": "3d466e67",
   "metadata": {},
   "outputs": [
    {
     "name": "stdout",
     "output_type": "stream",
     "text": [
      "Failed to retrieve data: 406\n"
     ]
    }
   ],
   "source": [
    "technique_id = \"T1548\"\n",
    "get_technique_mitigations(technique_id)"
   ]
  },
  {
   "cell_type": "code",
   "execution_count": null,
   "id": "5b0aef75",
   "metadata": {},
   "outputs": [],
   "source": []
  }
 ],
 "metadata": {
  "kernelspec": {
   "display_name": "Python 3 (ipykernel)",
   "language": "python",
   "name": "python3"
  },
  "language_info": {
   "codemirror_mode": {
    "name": "ipython",
    "version": 3
   },
   "file_extension": ".py",
   "mimetype": "text/x-python",
   "name": "python",
   "nbconvert_exporter": "python",
   "pygments_lexer": "ipython3",
   "version": "3.11.9"
  }
 },
 "nbformat": 4,
 "nbformat_minor": 5
}
