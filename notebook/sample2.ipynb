{
 "cells": [
  {
   "cell_type": "code",
   "execution_count": 1,
   "id": "bdf14b48",
   "metadata": {},
   "outputs": [],
   "source": [
    "import pandas as pd\n",
    "import mysql.connector\n",
    "from db.db import parameter"
   ]
  },
  {
   "cell_type": "code",
   "execution_count": 2,
   "id": "6253aa1f",
   "metadata": {},
   "outputs": [],
   "source": [
    "db_connection = mysql.connector.connect(**parameter, ssl_disabled=True)"
   ]
  },
  {
   "cell_type": "code",
   "execution_count": 3,
   "id": "5b0aef75",
   "metadata": {},
   "outputs": [],
   "source": [
    "def load_sql_file(file) -> str:\n",
    "    with open(file, \"r\") as fin:\n",
    "        return fin.read()"
   ]
  },
  {
   "cell_type": "code",
   "execution_count": 4,
   "id": "87d20900",
   "metadata": {},
   "outputs": [],
   "source": [
    "query = load_sql_file(\"/home/work/mysql_server/command/mysql.sql\")"
   ]
  },
  {
   "cell_type": "code",
   "execution_count": 5,
   "id": "4e553774",
   "metadata": {},
   "outputs": [
    {
     "name": "stderr",
     "output_type": "stream",
     "text": [
      "/tmp/ipykernel_1100662/3294841720.py:1: UserWarning: pandas only supports SQLAlchemy connectable (engine/connection) or database string URI or sqlite3 DBAPI2 connection. Other DBAPI2 objects are not tested. Please consider using SQLAlchemy.\n",
      "  df = pd.read_sql(query, db_connection)\n"
     ]
    }
   ],
   "source": [
    "df = pd.read_sql(query, db_connection)\n"
   ]
  },
  {
   "cell_type": "code",
   "execution_count": 6,
   "id": "a68da295",
   "metadata": {},
   "outputs": [],
   "source": [
    "df[\"combination_count\"] = 1"
   ]
  },
  {
   "cell_type": "code",
   "execution_count": 7,
   "id": "2e069e7a",
   "metadata": {},
   "outputs": [
    {
     "data": {
      "text/html": [
       "<div>\n",
       "<style scoped>\n",
       "    .dataframe tbody tr th:only-of-type {\n",
       "        vertical-align: middle;\n",
       "    }\n",
       "\n",
       "    .dataframe tbody tr th {\n",
       "        vertical-align: top;\n",
       "    }\n",
       "\n",
       "    .dataframe thead th {\n",
       "        text-align: right;\n",
       "    }\n",
       "</style>\n",
       "<table border=\"1\" class=\"dataframe\">\n",
       "  <thead>\n",
       "    <tr style=\"text-align: right;\">\n",
       "      <th></th>\n",
       "      <th>killchain</th>\n",
       "      <th>tactic</th>\n",
       "      <th>technique</th>\n",
       "      <th>collection_layer</th>\n",
       "      <th>datasource</th>\n",
       "      <th>url</th>\n",
       "      <th>combination_count</th>\n",
       "    </tr>\n",
       "  </thead>\n",
       "  <tbody>\n",
       "    <tr>\n",
       "      <th>0</th>\n",
       "      <td>Reconnaissance</td>\n",
       "      <td>Reconnaissance</td>\n",
       "      <td>Gather Victim Host Information: Software</td>\n",
       "      <td>OSINT</td>\n",
       "      <td>Internet Scan: Response Content</td>\n",
       "      <td>https://attack.mitre.org/techniques/T1592/002</td>\n",
       "      <td>1</td>\n",
       "    </tr>\n",
       "    <tr>\n",
       "      <th>1</th>\n",
       "      <td>Reconnaissance</td>\n",
       "      <td>Reconnaissance</td>\n",
       "      <td>Gather Victim Identity Information</td>\n",
       "      <td>Host</td>\n",
       "      <td>Network Traffic: Network Traffic Content</td>\n",
       "      <td>https://attack.mitre.org/techniques/T1589</td>\n",
       "      <td>1</td>\n",
       "    </tr>\n",
       "    <tr>\n",
       "      <th>2</th>\n",
       "      <td>Reconnaissance</td>\n",
       "      <td>Reconnaissance</td>\n",
       "      <td>Gather Victim Identity Information</td>\n",
       "      <td>Network</td>\n",
       "      <td>Network Traffic: Network Traffic Content</td>\n",
       "      <td>https://attack.mitre.org/techniques/T1589</td>\n",
       "      <td>1</td>\n",
       "    </tr>\n",
       "    <tr>\n",
       "      <th>3</th>\n",
       "      <td>Reconnaissance</td>\n",
       "      <td>Reconnaissance</td>\n",
       "      <td>Gather Victim Identity Information: Email Addr...</td>\n",
       "      <td>Host</td>\n",
       "      <td>Network Traffic: Network Traffic Content</td>\n",
       "      <td>https://attack.mitre.org/techniques/T1589/002</td>\n",
       "      <td>1</td>\n",
       "    </tr>\n",
       "    <tr>\n",
       "      <th>4</th>\n",
       "      <td>Reconnaissance</td>\n",
       "      <td>Reconnaissance</td>\n",
       "      <td>Gather Victim Identity Information: Email Addr...</td>\n",
       "      <td>Network</td>\n",
       "      <td>Network Traffic: Network Traffic Content</td>\n",
       "      <td>https://attack.mitre.org/techniques/T1589/002</td>\n",
       "      <td>1</td>\n",
       "    </tr>\n",
       "  </tbody>\n",
       "</table>\n",
       "</div>"
      ],
      "text/plain": [
       "        killchain          tactic  \\\n",
       "0  Reconnaissance  Reconnaissance   \n",
       "1  Reconnaissance  Reconnaissance   \n",
       "2  Reconnaissance  Reconnaissance   \n",
       "3  Reconnaissance  Reconnaissance   \n",
       "4  Reconnaissance  Reconnaissance   \n",
       "\n",
       "                                           technique collection_layer  \\\n",
       "0           Gather Victim Host Information: Software            OSINT   \n",
       "1                 Gather Victim Identity Information             Host   \n",
       "2                 Gather Victim Identity Information          Network   \n",
       "3  Gather Victim Identity Information: Email Addr...             Host   \n",
       "4  Gather Victim Identity Information: Email Addr...          Network   \n",
       "\n",
       "                                 datasource  \\\n",
       "0           Internet Scan: Response Content   \n",
       "1  Network Traffic: Network Traffic Content   \n",
       "2  Network Traffic: Network Traffic Content   \n",
       "3  Network Traffic: Network Traffic Content   \n",
       "4  Network Traffic: Network Traffic Content   \n",
       "\n",
       "                                             url  combination_count  \n",
       "0  https://attack.mitre.org/techniques/T1592/002                  1  \n",
       "1      https://attack.mitre.org/techniques/T1589                  1  \n",
       "2      https://attack.mitre.org/techniques/T1589                  1  \n",
       "3  https://attack.mitre.org/techniques/T1589/002                  1  \n",
       "4  https://attack.mitre.org/techniques/T1589/002                  1  "
      ]
     },
     "execution_count": 7,
     "metadata": {},
     "output_type": "execute_result"
    }
   ],
   "source": [
    "df.head()"
   ]
  },
  {
   "cell_type": "code",
   "execution_count": 8,
   "id": "aebed607",
   "metadata": {},
   "outputs": [],
   "source": [
    "pivot_table = df.pivot_table(\n",
    "        index=['collection_layer', 'datasource'],\n",
    "        columns=[\"tactic\", 'technique'],\n",
    "        values='combination_count',\n",
    "        aggfunc='max',\n",
    "        fill_value=0\n",
    "    )"
   ]
  },
  {
   "cell_type": "code",
   "execution_count": 9,
   "id": "3ce2ae34",
   "metadata": {},
   "outputs": [],
   "source": [
    "pivot_table.to_excel(\"to_excel2.xlsx\")"
   ]
  },
  {
   "cell_type": "code",
   "execution_count": null,
   "id": "bad1cfc7",
   "metadata": {},
   "outputs": [],
   "source": []
  }
 ],
 "metadata": {
  "kernelspec": {
   "display_name": "Python 3 (ipykernel)",
   "language": "python",
   "name": "python3"
  },
  "language_info": {
   "codemirror_mode": {
    "name": "ipython",
    "version": 3
   },
   "file_extension": ".py",
   "mimetype": "text/x-python",
   "name": "python",
   "nbconvert_exporter": "python",
   "pygments_lexer": "ipython3",
   "version": "3.11.9"
  }
 },
 "nbformat": 4,
 "nbformat_minor": 5
}
